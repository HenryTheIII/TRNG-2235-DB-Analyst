{
 "cells": [
  {
   "cell_type": "markdown",
   "metadata": {
    "application/vnd.databricks.v1+cell": {
     "cellMetadata": {},
     "inputWidgets": {},
     "nuid": "6a919735-c102-4c07-b86f-2978e42a1912",
     "showTitle": false,
     "tableResultSettingsMap": {},
     "title": ""
    }
   },
   "source": [
    "\n",
    "##  Medallion Architecture (Multi-hop)\n",
    "\n",
    "\n",
    "- Medallion Architecture is a **layered approach** for building reliable, scalable data lakes:\n",
    "\n",
    "| Layer                 | Description                                                          | Data Quality           | Purpose                                                        |\n",
    "| --------------------- | -------------------------------------------------------------------- | ---------------------- | -------------------------------------------------------------- |\n",
    "| **Bronze** (Raw)      | Raw ingestion from source systems (e.g., logs, events, files)        | Raw data, may be dirty | Capture original data for audit and backup                     |\n",
    "| **Silver** (Cleansed) | Cleaned and filtered data, duplicates removed, basic transformations | Cleaned, enriched      | Enable business logic, filtering, and filtering of bad records |\n",
    "| **Gold** (Aggregated) | Aggregated, business-level data ready for analytics and BI           | Curated, optimized     | Power dashboards, ML, and reporting                            |\n",
    "\n",
    "- **Multi-hop** refers to data pipelines where data flows through multiple stages or tables before reaching the final presentation layer.\n",
    "- Data flows through these layers progressively, increasing in quality and usability.\n",
    "\n"
   ]
  },
  {
   "cell_type": "code",
   "execution_count": 0,
   "metadata": {
    "application/vnd.databricks.v1+cell": {
     "cellMetadata": {
      "byteLimit": 2048000,
      "rowLimit": 10000
     },
     "inputWidgets": {},
     "nuid": "5e4ff082-1bc9-498f-8559-6089f3aed1e3",
     "showTitle": false,
     "tableResultSettingsMap": {},
     "title": ""
    }
   },
   "outputs": [],
   "source": [
    "from pyspark.sql.functions import *\n",
    "from pyspark.sql.types import *\n",
    "\n",
    "orders_bronze = spark.table(\"workspace.`2235-wk3`.orders_bronze\")\n",
    "\n",
    "orders_bronze.show()"
   ]
  },
  {
   "cell_type": "markdown",
   "metadata": {
    "application/vnd.databricks.v1+cell": {
     "cellMetadata": {},
     "inputWidgets": {},
     "nuid": "0ef66654-b99b-42fd-b762-a39c3eabb832",
     "showTitle": false,
     "tableResultSettingsMap": {},
     "title": ""
    }
   },
   "source": [
    "\n",
    "#### Silver Layer (Parse and Flatten)\n",
    "\n",
    "- Parse the JSON string column order_details with from_json() and a defined schema\n",
    "- Explode the nested array products so each product is one row\n",
    "- Flatten nested structs like delivery address and payment info\n",
    "- Cast columns to proper types (int, float, date, etc.)\n",
    "- Save as Delta table `orders_silver`"
   ]
  },
  {
   "cell_type": "code",
   "execution_count": 0,
   "metadata": {
    "application/vnd.databricks.v1+cell": {
     "cellMetadata": {
      "byteLimit": 2048000,
      "rowLimit": 10000
     },
     "inputWidgets": {},
     "nuid": "91351f0e-9b11-4fd6-b32c-13d1c0cc6347",
     "showTitle": false,
     "tableResultSettingsMap": {},
     "title": ""
    }
   },
   "outputs": [],
   "source": [
    "# define the json schema\n",
    "\n",
    "product_schema = ArrayType(StructType([\n",
    "    StructField(\"product_id\", StringType(), True),\n",
    "    StructField(\"category\", StringType(), True),\n",
    "    StructField(\"price\", DoubleType(), True)\n",
    "\n",
    "]))\n",
    "\n",
    "delivery_schema = StructType([\n",
    "    StructField(\"method\", StringType(), True),\n",
    "    StructField(\"address\", StructType([\n",
    "        StructField(\"street\", StringType(), True),\n",
    "        StructField(\"city\", StringType(), True),\n",
    "        StructField(\"zip\", StringType(), True)\n",
    "                                        ]), True)\n",
    "])\n",
    "\n",
    "payment_schema = StructType([\n",
    "    StructField(\"method\", StringType(), True),\n",
    "    StructField(\"installments\", IntegerType(), True)\n",
    "])\n",
    "\n",
    "order_details_schema = StructType([\n",
    "    StructField(\"products\", product_schema, True),\n",
    "    StructField(\"delivery\", delivery_schema, True),\n",
    "    StructField(\"payment\", payment_schema, True)\n",
    "])\n",
    "\n",
    "\n"
   ]
  },
  {
   "cell_type": "code",
   "execution_count": 0,
   "metadata": {
    "application/vnd.databricks.v1+cell": {
     "cellMetadata": {
      "byteLimit": 2048000,
      "rowLimit": 10000
     },
     "inputWidgets": {},
     "nuid": "c2f52122-30d3-49d7-9b21-2b2efbca06c3",
     "showTitle": false,
     "tableResultSettingsMap": {},
     "title": ""
    }
   },
   "outputs": [],
   "source": [
    "orders_silver = orders_bronze.withColumn(\n",
    "    \"orders_details_json\",\n",
    "    from_json(col(\"order_details\"), order_details_schema)\n",
    ")\n",
    "orders_silver.display()"
   ]
  },
  {
   "cell_type": "code",
   "execution_count": 0,
   "metadata": {
    "application/vnd.databricks.v1+cell": {
     "cellMetadata": {
      "byteLimit": 2048000,
      "rowLimit": 10000
     },
     "inputWidgets": {},
     "nuid": "a71b38da-279d-4b34-b8c6-ccc8409fd53c",
     "showTitle": false,
     "tableResultSettingsMap": {},
     "title": ""
    }
   },
   "outputs": [],
   "source": [
    "# explode product array\n",
    "\n",
    "exploded_df = orders_silver.select(\n",
    "    \"order_id\",\n",
    "    \"customer_id\",\n",
    "    col(\"order_date\").cast(\"timestamp\"),\n",
    "    col(\"total_amount\").cast(\"double\"),\n",
    "    explode(col(\"orders_details_json.products\")).alias(\"product\"),\n",
    "    col(\"orders_details_json.delivery.method\").alias(\"delivery_method\"),\n",
    "    col(\"orders_details_json.delivery.address.street\").alias(\"delivery_street\"),\n",
    "    col(\"orders_details_json.delivery.address.city\").alias(\"delivery_city\"),\n",
    "    col(\"orders_details_json.delivery.address.zip\").alias(\"delivery_zip\"),\n",
    "    col(\"orders_details_json.payment.method\").alias(\"payment_method\"),\n",
    "    col(\"orders_details_json.payment.installments\").alias(\"payment_installments\")\n",
    ")\n",
    "\n",
    "\n",
    "# flaten product struct\n",
    "\n",
    "orders_silver = exploded_df.select(\n",
    "    \"order_id\",\n",
    "    \"customer_id\",\n",
    "    \"order_date\",\n",
    "    \"total_amount\",\n",
    "    col(\"product.product_id\").alias(\"product_id\"),\n",
    "    col(\"product.category\").alias(\"product_category\"),\n",
    "    col(\"product.price\").alias(\"product_price\"),\n",
    "    \"delivery_method\",\n",
    "    \"delivery_street\",\n",
    "    \"delivery_city\",\n",
    "    \"delivery_zip\",\n",
    "    \"payment_method\",\n",
    "    \"payment_installments\"\n",
    ")\n",
    "\n",
    "# orders_silver.show(4)\n",
    "\n",
    "orders_silver.write.format(\"delta\").mode(\"overwrite\").saveAsTable(\"workspace.`2235-wk3`.orders_silver\")"
   ]
  },
  {
   "cell_type": "markdown",
   "metadata": {
    "application/vnd.databricks.v1+cell": {
     "cellMetadata": {},
     "inputWidgets": {},
     "nuid": "ba653f86-25dc-49e9-88f8-2cb09a99c95f",
     "showTitle": false,
     "tableResultSettingsMap": {},
     "title": ""
    }
   },
   "source": [
    "#### Gold Layer (Business Aggregations)\n",
    "\n",
    "- Aggregate to get metrics like total sales and order count per product category & payment method\n",
    "- Save as Gold Delta table"
   ]
  },
  {
   "cell_type": "code",
   "execution_count": 0,
   "metadata": {
    "application/vnd.databricks.v1+cell": {
     "cellMetadata": {
      "byteLimit": 2048000,
      "rowLimit": 10000
     },
     "inputWidgets": {},
     "nuid": "4551addc-6c9e-4fdc-b122-45f6573314cb",
     "showTitle": false,
     "tableResultSettingsMap": {},
     "title": ""
    }
   },
   "outputs": [],
   "source": [
    "silver_df = spark.table(\"workspace.`2235-wk3`.orders_silver\")\n",
    "\n",
    "orders_gold = silver_df.groupBy(\"product_category\", \"payment_method\") \\\n",
    "        .agg(\n",
    "            {\n",
    "                \"total_amount\": \"sum\",\n",
    "                \"order_id\": \"count\"\n",
    "            }\n",
    "        ) \\\n",
    "            .withColumnRenamed(\"sum(total_amount)\", \"total_sales\") \\\n",
    "                .withColumnRenamed(\"count(order_id)\", \"order_count\") \\\n",
    "                    .orderBy(col(\"total_sales\").desc())\n",
    "\n",
    "orders_gold.display()\n",
    "\n",
    "orders_gold.write.format(\"delta\").mode(\"overwrite\").saveAsTable(\"workspace.`2235-wk3`.orders_gold\")"
   ]
  },
  {
   "cell_type": "code",
   "execution_count": 0,
   "metadata": {
    "application/vnd.databricks.v1+cell": {
     "cellMetadata": {},
     "inputWidgets": {},
     "nuid": "bec1e138-1bae-4db4-807f-c6426dd2f085",
     "showTitle": false,
     "tableResultSettingsMap": {},
     "title": ""
    }
   },
   "outputs": [],
   "source": []
  }
 ],
 "metadata": {
  "application/vnd.databricks.v1+notebook": {
   "computePreferences": null,
   "dashboards": [],
   "environmentMetadata": {
    "base_environment": "",
    "environment_version": "2"
   },
   "inputWidgetPreferences": null,
   "language": "python",
   "notebookMetadata": {
    "pythonIndentUnit": 4
   },
   "notebookName": "01-data-transformation",
   "widgets": {}
  },
  "language_info": {
   "name": "python"
  }
 },
 "nbformat": 4,
 "nbformat_minor": 0
}
