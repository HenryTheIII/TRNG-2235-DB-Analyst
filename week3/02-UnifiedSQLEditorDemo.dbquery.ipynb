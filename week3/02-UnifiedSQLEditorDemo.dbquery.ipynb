{
 "cells": [
  {
   "cell_type": "code",
   "execution_count": 0,
   "metadata": {
    "application/vnd.databricks.v1+cell": {
     "cellMetadata": {
      "byteLimit": 10485760,
      "rowLimit": 1000
     },
     "inputWidgets": {},
     "nuid": "0837d98d-a8ca-44c5-91e4-d5f7080a9a3b",
     "showTitle": false,
     "tableResultSettingsMap": {
      "0": {
       "dataGridStateBlob": null,
       "filterBlob": "{\"version\":1,\"filterGroups\":[],\"syncTimestamp\":1755025760923}",
       "queryPlanFiltersBlob": "[]",
       "tableResultIndex": 0
      }
     },
     "title": ""
    }
   },
   "outputs": [
    {
     "output_type": "display_data",
     "data": {
      "text/plain": [
       "Databricks visualization. Run in Databricks to view."
      ]
     },
     "metadata": {
      "application/vnd.databricks.v1.subcommand+json": {
       "baseErrorDetails": null,
       "bindings": {},
       "collapsed": false,
       "command": "%sql WITH q AS (SELECT * FROM bronze_products LIMIT 10) SELECT `category`,SUM(`total_sales`) `column_50a171cd198` FROM q GROUP BY `category`",
       "commandTitle": "Total Sales by Category",
       "commandType": "auto",
       "commandVersion": 0,
       "commentThread": [],
       "commentsVisible": false,
       "contentSha256Hex": null,
       "customPlotOptions": {
        "redashChart": [
         {
          "key": "type",
          "value": "CHART"
         },
         {
          "key": "options",
          "value": {
           "alignYAxesAtZero": true,
           "coefficient": 1,
           "columnConfigurationMap": {
            "x": {
             "column": "category",
             "id": "column_50a171cd197"
            },
            "y": [
             {
              "column": "total_sales",
              "id": "column_50a171cd198",
              "transform": "SUM"
             }
            ]
           },
           "dateTimeFormat": "DD/MM/YYYY HH:mm",
           "direction": {
            "type": "counterclockwise"
           },
           "error_y": {
            "type": "data",
            "visible": true
           },
           "globalSeriesType": "pie",
           "legend": {
            "traceorder": "normal"
           },
           "missingValuesAsZero": true,
           "numberFormat": "0,0.[00000]",
           "percentFormat": "0[.]00%",
           "series": {
            "error_y": {
             "type": "data",
             "visible": true
            },
            "stacking": null
           },
           "seriesOptions": {
            "column_50a171cd198": {
             "name": "total_sales",
             "type": "pie",
             "yAxis": 0
            }
           },
           "showDataLabels": true,
           "sizemode": "diameter",
           "sortX": true,
           "sortY": true,
           "swappedAxes": false,
           "textFormat": "",
           "useAggregationsUi": true,
           "valuesOptions": {},
           "version": 2,
           "xAxis": {
            "labels": {
             "enabled": true
            },
            "type": "-"
           },
           "yAxis": [
            {
             "type": "-"
            },
            {
             "opposite": true,
             "type": "-"
            }
           ]
          }
         }
        ]
       },
       "datasetPreviewNameToCmdIdMap": {},
       "diffDeletes": [],
       "diffInserts": [],
       "displayType": "redashChart",
       "error": null,
       "errorDetails": null,
       "errorSummary": null,
       "errorTraceType": null,
       "finishTime": 0,
       "globalVars": {},
       "guid": "",
       "height": "auto",
       "hideCommandCode": false,
       "hideCommandResult": false,
       "iPythonMetadata": null,
       "inputWidgets": {},
       "isLockedInExamMode": false,
       "latestUser": "a user",
       "latestUserId": null,
       "listResultMetadata": null,
       "metadata": {},
       "nuid": "3bc595b8-dd58-4494-bd0e-3ab932fd214c",
       "origId": 0,
       "parentHierarchy": [],
       "pivotAggregation": null,
       "pivotColumns": null,
       "position": 2.0,
       "resultDbfsErrorMessage": null,
       "resultDbfsStatus": "INLINED_IN_TREE",
       "results": null,
       "showCommandTitle": false,
       "startTime": 0,
       "state": "input",
       "streamStates": {},
       "subcommandOptions": {
        "queryPlan": {
         "groups": [
          {
           "column": "category",
           "type": "column"
          }
         ],
         "selects": [
          {
           "column": "category",
           "type": "column"
          },
          {
           "alias": "column_50a171cd198",
           "args": [
            {
             "column": "total_sales",
             "type": "column"
            }
           ],
           "function": "SUM",
           "type": "function"
          }
         ]
        },
        "redashId": "ff3244d8-b876-4e00-93cf-a22a5e9e74fa",
        "redashLastUpdated": 1755025537000
       },
       "submitTime": 0,
       "subtype": "tableResultSubCmd.visualization",
       "tableResultIndex": 0,
       "tableResultSettingsMap": {},
       "useConsistentColors": false,
       "version": "CommandV1",
       "width": "auto",
       "workflows": null,
       "xColumns": null,
       "yColumns": null
      }
     },
     "output_type": "display_data"
    },
    {
     "output_type": "display_data",
     "data": {
      "text/plain": [
       "Databricks visualization. Run in Databricks to view."
      ]
     },
     "metadata": {
      "application/vnd.databricks.v1.subcommand+json": {
       "baseErrorDetails": null,
       "bindings": {},
       "collapsed": false,
       "command": "%sql WITH q AS (SELECT * FROM bronze_products LIMIT 10) SELECT `sales_rep`,`status`,SUM(`order_count`) `column_50a171cd203` FROM q GROUP BY `sales_rep`,`status`",
       "commandTitle": "Visualization 1",
       "commandType": "auto",
       "commandVersion": 0,
       "commentThread": [],
       "commentsVisible": false,
       "contentSha256Hex": null,
       "customPlotOptions": {
        "redashChart": [
         {
          "key": "type",
          "value": "CHART"
         },
         {
          "key": "options",
          "value": {
           "alignYAxesAtZero": true,
           "coefficient": 1,
           "columnConfigurationMap": {
            "series": {
             "column": "status",
             "id": "column_50a171cd202"
            },
            "x": {
             "column": "sales_rep",
             "id": "column_50a171cd201"
            },
            "y": [
             {
              "column": "order_count",
              "id": "column_50a171cd203",
              "transform": "SUM"
             }
            ]
           },
           "dateTimeFormat": "DD/MM/YYYY HH:mm",
           "direction": {
            "type": "counterclockwise"
           },
           "error_y": {
            "type": "data",
            "visible": true
           },
           "globalSeriesType": "column",
           "isAggregationOn": true,
           "legend": {
            "traceorder": "normal"
           },
           "missingValuesAsZero": true,
           "numberFormat": "0,0.[00000]",
           "percentFormat": "0[.]00%",
           "series": {
            "error_y": {
             "type": "data",
             "visible": true
            },
            "stacking": "stack"
           },
           "seriesOptions": {
            "column_50a171cd203": {
             "name": "order_count",
             "yAxis": 0
            }
           },
           "showDataLabels": false,
           "sizemode": "diameter",
           "sortX": true,
           "sortY": true,
           "swappedAxes": false,
           "textFormat": "",
           "useAggregationsUi": true,
           "valuesOptions": {},
           "version": 2,
           "xAxis": {
            "labels": {
             "enabled": true
            },
            "type": "-"
           },
           "yAxis": [
            {
             "type": "-"
            },
            {
             "opposite": true,
             "type": "-"
            }
           ]
          }
         }
        ]
       },
       "datasetPreviewNameToCmdIdMap": {},
       "diffDeletes": [],
       "diffInserts": [],
       "displayType": "redashChart",
       "error": null,
       "errorDetails": null,
       "errorSummary": null,
       "errorTraceType": null,
       "finishTime": 0,
       "globalVars": {},
       "guid": "",
       "height": "auto",
       "hideCommandCode": false,
       "hideCommandResult": false,
       "iPythonMetadata": null,
       "inputWidgets": {},
       "isLockedInExamMode": false,
       "latestUser": "a user",
       "latestUserId": null,
       "listResultMetadata": null,
       "metadata": {},
       "nuid": "50c1c43b-f1eb-4882-86f0-9f60a184ff90",
       "origId": 0,
       "parentHierarchy": [],
       "pivotAggregation": null,
       "pivotColumns": null,
       "position": 3.0,
       "resultDbfsErrorMessage": null,
       "resultDbfsStatus": "INLINED_IN_TREE",
       "results": null,
       "showCommandTitle": false,
       "startTime": 0,
       "state": "input",
       "streamStates": {},
       "subcommandOptions": {
        "queryPlan": {
         "groups": [
          {
           "column": "sales_rep",
           "type": "column"
          },
          {
           "column": "status",
           "type": "column"
          }
         ],
         "selects": [
          {
           "column": "sales_rep",
           "type": "column"
          },
          {
           "column": "status",
           "type": "column"
          },
          {
           "alias": "column_50a171cd203",
           "args": [
            {
             "column": "order_count",
             "type": "column"
            }
           ],
           "function": "SUM",
           "type": "function"
          }
         ]
        },
        "redashId": "8b1b4066-7150-436f-a6b7-18f24380d0dc",
        "redashLastUpdated": 1755025537000
       },
       "submitTime": 0,
       "subtype": "tableResultSubCmd.visualization",
       "tableResultIndex": 0,
       "tableResultSettingsMap": {},
       "useConsistentColors": false,
       "version": "CommandV1",
       "width": "auto",
       "workflows": null,
       "xColumns": null,
       "yColumns": null
      }
     },
     "output_type": "display_data"
    }
   ],
   "source": [
    "-- Exploratory Data Analysis (EDA) on Bronze\n",
    "\n",
    "-- Preview products\n",
    "SELECT * FROM bronze_products LIMIT 10;\n",
    "\n",
    "-- Preview orders\n",
    "SELECT * FROM bronze_orders LIMIT 10;\n",
    "\n",
    "-- Check for NULLs or missing values in orders\n",
    "SELECT \n",
    "  COUNT(*) AS total_rows,\n",
    "  SUM(CASE WHEN product_id IS NULL THEN 1 ELSE 0 END) AS null_product_id,\n",
    "  SUM(CASE WHEN order_date IS NULL THEN 1 ELSE 0 END) AS null_order_date,\n",
    "  SUM(CASE WHEN sales_rep IS NULL THEN 1 ELSE 0 END) AS null_sales_rep\n",
    "FROM bronze_orders;\n",
    "\n",
    "-- Status distribution\n",
    "SELECT status, COUNT(*) AS count\n",
    "FROM bronze_orders\n",
    "GROUP BY status;\n",
    "\n",
    "-- Join preview: order with product name and category\n",
    "SELECT o.order_id, o.order_date, p.product_name, p.category, o.quantity, o.unit_price, o.status, o.sales_rep\n",
    "FROM bronze_orders o\n",
    "LEFT JOIN bronze_products p\n",
    "  ON o.product_id = p.product_id\n",
    "LIMIT 15;\n",
    "\n",
    "-- silver - Clean & Transform\n",
    "-- Clean orders: remove null product_id or order_date, cast types, normalize columns\n",
    "CREATE OR REPLACE TABLE silver_orders_products AS\n",
    "SELECT\n",
    "  o.order_id,\n",
    "  o.customer_id,\n",
    "  o.product_id,\n",
    "  p.product_name,\n",
    "  p.category,\n",
    "  p.subcategory,\n",
    "  CAST(o.order_date AS DATE) AS order_date,\n",
    "  DAY(o.order_date) AS order_day,\n",
    "  MONTH(o.order_date) AS order_month,\n",
    "  YEAR(o.order_date) AS order_year,\n",
    "  CAST(o.quantity AS INT) AS quantity,\n",
    "  CAST(o.unit_price AS DOUBLE) AS unit_price,\n",
    "  o.status,\n",
    "  o.sales_rep,\n",
    "  o.quantity * o.unit_price AS total_value\n",
    "FROM bronze_orders o\n",
    "JOIN bronze_products p\n",
    "  ON o.product_id = p.product_id\n",
    "WHERE o.product_id IS NOT NULL\n",
    "  AND o.order_date IS NOT NULL;\n",
    "\n",
    "\n",
    "SELECT * FROM silver_orders_products LIMIT 10\n",
    "\n",
    "\n",
    "-- Analysis queries (using silver_orders_products )\n",
    "\n",
    "SELECT * \n",
    "FROM silver_orders_products\n",
    "WHERE category = :selected_category\n",
    "AND order_date BETWEEN DATE(:start_date) AND DATE(:end_date);\n",
    "\n",
    "\n",
    "WITH filtered_data AS (\n",
    "  \n",
    "SELECT * \n",
    "FROM silver_orders_products\n",
    "WHERE category = :selected_category\n",
    "AND order_date BETWEEN DATE(:start_date) AND DATE(:end_date))\n",
    "\n",
    "SELECT \n",
    "sales_rep,\n",
    "category,\n",
    "SUM(total_value) AS total_revenue\n",
    "FROM filtered_data\n",
    "GROUP BY sales_rep, category\n",
    "ORDER BY total_revenue DESC;\n",
    "\n",
    "\n",
    "/*  Pivot example (status counts per sales rep)\n",
    "A pivot table is a way to summarize and reorganize data to make it easier to analyze.\n",
    "It rotates rows into columns, grouping data by categories and aggregating values like sums or counts. */\n",
    "\n",
    "\n",
    "\n",
    "\n",
    "SELECT sales_rep, COALESCE(`Shipped`, 0) as shipped_count, COALESCE(`Pending`, 0) as pending_count, COALESCE(`Cancelled`, 0) as canceled_count \n",
    "FROM (\n",
    "\n",
    "  SELECT sales_rep, status\n",
    "  FROM silver_orders_products\n",
    "  WHERE order_date BETWEEN DATE(:start_date) AND DATE(:end_date)\n",
    ")\n",
    "\n",
    "PIVOT(\n",
    "  COUNT(status) FOR status IN ('Shipped', 'Pending', 'Cancelled' )\n",
    ")\n",
    "ORDER BY sales_rep;\n",
    "\n",
    "\n",
    "/* Window function — Rank products by revenue within category\n",
    " Window functions perform calculations across a \"window\" or set of rows related to the current row, without collapsing the rows into a single result.\n",
    "They let you do things like ranking, running totals, moving averages, and comparisons between rows while keeping all the rows visible. */\n",
    "\n",
    "WITH filtered_data AS (\n",
    "  \n",
    "SELECT * \n",
    "FROM silver_orders_products\n",
    "WHERE category = :selected_category\n",
    "AND order_date BETWEEN DATE(:start_date) AND DATE(:end_date))\n",
    "\n",
    "SELECT \n",
    "category,\n",
    "product_name,\n",
    "SUM(total_value) AS revenue,\n",
    "RANK() OVER (PARTITION BY category ORDER BY SUM(total_value) DESC) AS rank_in_category\n",
    "FROM filtered_data\n",
    "GROUP BY category, product_name\n",
    "ORDER BY category, rank_in_category;\n",
    "\n",
    "\n",
    "SELECT * FROM silver_orders_products;\n",
    "\n",
    "\n",
    "-- Summary statistics\n",
    "CREATE OR REPLACE TABLE sales_summary_gold AS\n",
    "SELECT \n",
    "  category,\n",
    "  sales_rep,\n",
    "  COUNT(DISTINCT order_id) AS order_count,\n",
    "  SUM(total_value) AS total_sales,\n",
    "  ROUND(AVG(total_value), 2) AS avg_order_value,\n",
    "  MIN(total_value) AS min_order_value,\n",
    "  MAX(total_value) AS max_order_value\n",
    "FROM silver_orders_products\n",
    "GROUP BY category, sales_rep\n",
    "ORDER BY category, total_sales DESC;\n",
    "\n",
    "-- visualisations\n",
    "\n",
    "SELECT category, SUM(total_value) as total_sales\n",
    "FROM silver_orders_products\n",
    "GROUP BY category\n",
    "ORDER BY total_sales DESC;\n",
    "\n",
    "\n",
    "-- order ststus distribution\n",
    "\n",
    "SELECT sales_rep, status, COUNT(*) AS order_count\n",
    "FROM silver_orders_products\n",
    "GROUP BY sales_rep, status\n",
    "ORDER BY sales_rep;\n",
    "\n",
    "\n",
    "\n",
    "\n",
    "\n",
    "\n"
   ]
  }
 ],
 "metadata": {
  "application/vnd.databricks.v1+notebook": {
   "computePreferences": null,
   "dashboards": [],
   "environmentMetadata": null,
   "inputWidgetPreferences": null,
   "language": "sql",
   "notebookMetadata": {
    "pythonIndentUnit": 4,
    "sqlQueryOptions": {
     "applyAutoLimit": true,
     "catalog": "workspace",
     "schema": "db-sql-demo"
    }
   },
   "notebookName": "02-UnifiedSQLEditorDemo.dbquery.ipynb",
   "widgets": {
    "end_date": {
     "currentValue": "2025-02-13",
     "nuid": "8610a11d-8b2f-4f12-9ddd-5ddfdbce01f5",
     "typedWidgetInfo": {
      "autoCreated": false,
      "defaultValue": "",
      "label": "",
      "name": "end_date",
      "options": {
       "widgetDisplayType": "Text",
       "validationRegex": null
      },
      "parameterDataType": "Date"
     },
     "widgetInfo": {
      "widgetType": "text",
      "defaultValue": "",
      "label": "",
      "name": "end_date",
      "options": {
       "widgetType": "text",
       "autoCreated": false,
       "validationRegex": null
      }
     }
    },
    "selected_category": {
     "currentValue": "Electronics",
     "nuid": "99fab7bc-f61f-423d-b4e9-affeff9fe4ad",
     "typedWidgetInfo": {
      "autoCreated": false,
      "defaultValue": "Electronics",
      "label": "Selected Category",
      "name": "selected_category",
      "options": {
       "widgetDisplayType": "Text",
       "validationRegex": null
      },
      "parameterDataType": "String"
     },
     "widgetInfo": {
      "widgetType": "text",
      "defaultValue": "Electronics",
      "label": "Selected Category",
      "name": "selected_category",
      "options": {
       "widgetType": "text",
       "autoCreated": false,
       "validationRegex": null
      }
     }
    },
    "start_date": {
     "currentValue": "2025-01-08",
     "nuid": "ae785bdb-161a-4799-b4a7-b4dfdb9f8c92",
     "typedWidgetInfo": {
      "autoCreated": true,
      "defaultValue": "",
      "label": null,
      "name": "start_date",
      "options": {
       "widgetDisplayType": "Text",
       "validationRegex": null
      },
      "parameterDataType": "String"
     },
     "widgetInfo": {
      "widgetType": "text",
      "defaultValue": "",
      "label": null,
      "name": "start_date",
      "options": {
       "widgetType": "text",
       "autoCreated": true,
       "validationRegex": null
      }
     }
    }
   }
  },
  "language_info": {
   "name": "sql"
  }
 },
 "nbformat": 4,
 "nbformat_minor": 0
}
