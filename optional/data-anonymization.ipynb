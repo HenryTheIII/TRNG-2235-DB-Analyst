{
 "cells": [
  {
   "cell_type": "markdown",
   "metadata": {
    "application/vnd.databricks.v1+cell": {
     "cellMetadata": {},
     "inputWidgets": {},
     "nuid": "eea55582-e5d4-418e-938b-51b0ee0d586f",
     "showTitle": false,
     "tableResultSettingsMap": {},
     "title": ""
    }
   },
   "source": [
    "# Data Anonymization techniques\n",
    "\n",
    "- Masking: Hiding part of sensitive data (e.g., email, SSN, phone).\n",
    "- Hashing: Replacing data with irreversible hashed values (ideal for IDs).\n",
    "- Tokenization/Pseudonymization: Replacing sensitive values with random tokens that can be reversed later using a lookup table.\n",
    "- Redaction/Removal: Completely removing sensitive columns or rows.\n",
    "- Generalization:  Reducing precision to hide exact values.\n",
    "- Noise Addition: Altering values slightly to hide exact data (esp. for analytics).\n",
    "- NER - Named entity recognition\n",
    "\n",
    "[microsoft presidio](https://microsoft.github.io/presidio/)"
   ]
  },
  {
   "cell_type": "code",
   "execution_count": 0,
   "metadata": {
    "application/vnd.databricks.v1+cell": {
     "cellMetadata": {},
     "inputWidgets": {},
     "nuid": "da7da58f-07b7-4d0e-aa8d-7c4f00df036b",
     "showTitle": false,
     "tableResultSettingsMap": {},
     "title": ""
    }
   },
   "outputs": [],
   "source": [
    "# setup -optional \n",
    "\n",
    "from pyspark.sql import SparkSession\n",
    "from pyspark.sql.functions import *\n",
    "\n",
    "spark = SparkSession.builder.appName(\"UsersAnynomization\").getOrCreate()\n",
    "\n"
   ]
  },
  {
   "cell_type": "code",
   "execution_count": 0,
   "metadata": {
    "application/vnd.databricks.v1+cell": {
     "cellMetadata": {
      "byteLimit": 2048000,
      "rowLimit": 10000
     },
     "inputWidgets": {},
     "nuid": "21adb0d7-f734-435a-97c6-13fedf604082",
     "showTitle": false,
     "tableResultSettingsMap": {},
     "title": ""
    }
   },
   "outputs": [],
   "source": [
    "# load the user data\n",
    "from pyspark.sql.functions import *\n",
    "\n",
    "users_df = spark.read.csv(\"/Volumes/workspace/2235-wk3/optional\", header=True, inferSchema=True)\n"
   ]
  },
  {
   "cell_type": "code",
   "execution_count": 0,
   "metadata": {
    "application/vnd.databricks.v1+cell": {
     "cellMetadata": {
      "byteLimit": 2048000,
      "rowLimit": 10000
     },
     "inputWidgets": {},
     "nuid": "464e52c4-6ead-458b-a790-32627fed8c30",
     "showTitle": false,
     "tableResultSettingsMap": {},
     "title": ""
    }
   },
   "outputs": [],
   "source": [
    "# masking email \n",
    "\n",
    "df_anonymous = users_df.withColumn(\"email_masked\", regexp_replace(\"email\", r\"(^[^@]+)\", \"*****\")).drop(\"email\")\n",
    "\n",
    "df_anonymous.show(9)\n"
   ]
  },
  {
   "cell_type": "code",
   "execution_count": 0,
   "metadata": {
    "application/vnd.databricks.v1+cell": {
     "cellMetadata": {
      "byteLimit": 2048000,
      "rowLimit": 10000
     },
     "inputWidgets": {},
     "nuid": "38c4ad44-5e30-46ab-9009-3904284294c6",
     "showTitle": false,
     "tableResultSettingsMap": {},
     "title": ""
    }
   },
   "outputs": [],
   "source": [
    "# hashing SSN credit card\n",
    "\n",
    "df_anonymous = df_anonymous.withColumn(\"ssn_hashed\", sha2(col(\"ssn\"), 256)) \\\n",
    "    .withColumn(\"credit_card_hashed\", sha2(col(\"credit_card\").cast(\"string\"), 256)) \\\n",
    "        .drop(\"ssn\", \"credit_card\")\n",
    "\n",
    "df_anonymous.show(9)\n",
    "\n",
    "\n"
   ]
  },
  {
   "cell_type": "code",
   "execution_count": 0,
   "metadata": {
    "application/vnd.databricks.v1+cell": {
     "cellMetadata": {
      "byteLimit": 2048000,
      "rowLimit": 10000
     },
     "inputWidgets": {},
     "nuid": "914a7245-7fa4-49d3-8da2-fe8f51ff7e8a",
     "showTitle": false,
     "tableResultSettingsMap": {},
     "title": ""
    }
   },
   "outputs": [],
   "source": [
    "# generaliation\n",
    "\n",
    "df_anonymous = df_anonymous.withColumn(\"age_range\", when(col(\"age\") <18, \"<18\")\n",
    "                .when(col(\"age\") <30 , \"18-29\")\n",
    "                .when(col(\"age\") <50 , \"30-49\")\n",
    "                .otherwise(\"50+\")).drop(\"age\", \"dob\")\n",
    "\n",
    "\n"
   ]
  },
  {
   "cell_type": "code",
   "execution_count": 0,
   "metadata": {
    "application/vnd.databricks.v1+cell": {
     "cellMetadata": {
      "byteLimit": 2048000,
      "rowLimit": 10000
     },
     "inputWidgets": {},
     "nuid": "6705a961-692e-4ba6-93a5-495c7cba4eb2",
     "showTitle": false,
     "tableResultSettingsMap": {},
     "title": ""
    }
   },
   "outputs": [],
   "source": [
    "# noise addition to salary\n",
    "\n",
    "df_anonymous = df_anonymous.withColumn(\"salary_noise\", (col(\"salary\") + (rand() *100000 - 500)).cast(\"double\")).drop(\"salary\")\n",
    "\n",
    "df_anonymous.show(9)\n",
    "\n"
   ]
  },
  {
   "cell_type": "code",
   "execution_count": 0,
   "metadata": {
    "application/vnd.databricks.v1+cell": {
     "cellMetadata": {},
     "inputWidgets": {},
     "nuid": "5703020d-8f0a-4451-96a8-074684303263",
     "showTitle": false,
     "tableResultSettingsMap": {},
     "title": ""
    }
   },
   "outputs": [],
   "source": [
    "# save the changes\n",
    "\n",
    "df_anonymous.write.saveAsTable(\"users_cleaned\")\n"
   ]
  },
  {
   "cell_type": "code",
   "execution_count": 0,
   "metadata": {
    "application/vnd.databricks.v1+cell": {
     "cellMetadata": {},
     "inputWidgets": {},
     "nuid": "9d068cbf-6df4-4ed0-b73d-86a3bdb9c131",
     "showTitle": false,
     "tableResultSettingsMap": {},
     "title": ""
    }
   },
   "outputs": [],
   "source": [
    "! pip install presidio-analyzer presidio_structured presidio-anonymizer faker pandas && python -m spacy download en_core_web_lg\n"
   ]
  },
  {
   "cell_type": "code",
   "execution_count": 0,
   "metadata": {
    "application/vnd.databricks.v1+cell": {
     "cellMetadata": {},
     "inputWidgets": {},
     "nuid": "fed53153-ae12-47dd-91b8-9b583538c46e",
     "showTitle": false,
     "tableResultSettingsMap": {},
     "title": ""
    }
   },
   "outputs": [],
   "source": [
    "# NER\n",
    "\n",
    "import pandas as pd\n",
    "from faker import Faker\n",
    "from presidio_structured import StructuredEngine, PandasAnalysisBuilder\n",
    "from presidio_anonymizer.entities import OperatorConfig\n",
    "from datetime import datetime\n",
    "\n",
    "\n",
    "pandas_users_df = users_df.toPandas()\n"
   ]
  },
  {
   "cell_type": "code",
   "execution_count": 0,
   "metadata": {
    "application/vnd.databricks.v1+cell": {
     "cellMetadata": {},
     "inputWidgets": {},
     "nuid": "ca439f5e-1cac-4357-832e-1a9fd7e7b0c2",
     "showTitle": false,
     "tableResultSettingsMap": {},
     "title": ""
    }
   },
   "outputs": [],
   "source": [
    "\n",
    "pandas_users_df = pandas_users_df.astype(\"str\")"
   ]
  },
  {
   "cell_type": "code",
   "execution_count": 0,
   "metadata": {
    "application/vnd.databricks.v1+cell": {
     "cellMetadata": {},
     "inputWidgets": {},
     "nuid": "8f50a570-5c24-4a87-bdc6-760e01a38573",
     "showTitle": false,
     "tableResultSettingsMap": {},
     "title": ""
    }
   },
   "outputs": [],
   "source": [
    "pandas_engine = StructuredEngine()\n",
    "tabular_analysis = PandasAnalysisBuilder().generate_analysis(pandas_users_df)"
   ]
  },
  {
   "cell_type": "code",
   "execution_count": 0,
   "metadata": {
    "application/vnd.databricks.v1+cell": {
     "cellMetadata": {},
     "inputWidgets": {},
     "nuid": "d5033521-dbc6-4e29-8d3c-e02464f6372e",
     "showTitle": false,
     "tableResultSettingsMap": {},
     "title": ""
    }
   },
   "outputs": [],
   "source": [
    "fake = Faker()\n",
    "\n",
    "operators = {\n",
    "    \"PERSON\": OperatorConfig(\"replace\", {\"new_value\" : \"REDACTED\"}),\n",
    "    \"EMAIL_ADDRESS\": OperatorConfig(\"custom\", {\"lambda\" : lambda x:fake.safe_email()}),\n",
    "    \"US_SSN\": OperatorConfig(\"custom\", {\"lambda\": lambda x:fake.ssn()}),\n",
    "    \"DATE_TIME\": OperatorConfig(\"custom\",{\"lambda\": lambda x: fake.date_between_dates(date_start=datetime(1940,1,1), date_end=datetime(2010,1,1))}),\n",
    "    \"US_BANK_NUMBER\": OperatorConfig(\"replace\", {\"new_value\" :\"REDACTED\"})\n",
    "}"
   ]
  },
  {
   "cell_type": "code",
   "execution_count": 0,
   "metadata": {
    "application/vnd.databricks.v1+cell": {
     "cellMetadata": {},
     "inputWidgets": {},
     "nuid": "912caff5-a66a-4283-8b0e-799d2375ca5d",
     "showTitle": false,
     "tableResultSettingsMap": {},
     "title": ""
    }
   },
   "outputs": [],
   "source": [
    "anonymized_pd_df = pandas_engine.anonymize(pandas_users_df, tabular_analysis, operators=operators)\n",
    "\n"
   ]
  },
  {
   "cell_type": "code",
   "execution_count": 0,
   "metadata": {
    "application/vnd.databricks.v1+cell": {
     "cellMetadata": {},
     "inputWidgets": {},
     "nuid": "fa3ff5c2-b03b-4d96-bbb9-3e7d42b7dd85",
     "showTitle": false,
     "tableResultSettingsMap": {},
     "title": ""
    }
   },
   "outputs": [],
   "source": [
    "anonymized_users_df = spark.createDataFrame(anonymized_pd_df)\n",
    "\n",
    "anonymized_users_df.drop(\"age\").show()"
   ]
  }
 ],
 "metadata": {
  "application/vnd.databricks.v1+notebook": {
   "computePreferences": null,
   "dashboards": [],
   "environmentMetadata": null,
   "inputWidgetPreferences": null,
   "language": "python",
   "notebookMetadata": {
    "pythonIndentUnit": 4
   },
   "notebookName": "data-anonymization",
   "widgets": {}
  },
  "kernelspec": {
   "display_name": "Python 3",
   "language": "python",
   "name": "python3"
  },
  "language_info": {
   "name": "python"
  }
 },
 "nbformat": 4,
 "nbformat_minor": 0
}
